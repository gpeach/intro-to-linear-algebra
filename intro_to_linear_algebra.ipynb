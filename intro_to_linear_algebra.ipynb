{
 "cells": [
  {
   "cell_type": "markdown",
   "id": "a70bc406f078583a",
   "metadata": {},
   "source": [
    "Scalars (Rank 0 Tensors) in base python"
   ]
  },
  {
   "cell_type": "code",
   "id": "e2217f07c57242f5",
   "metadata": {
    "ExecuteTime": {
     "end_time": "2024-07-31T19:58:42.113360Z",
     "start_time": "2024-07-31T19:58:42.108279Z"
    }
   },
   "source": [
    "x=25"
   ],
   "outputs": [],
   "execution_count": 4
  },
  {
   "cell_type": "code",
   "id": "d106137097ec0798",
   "metadata": {
    "ExecuteTime": {
     "end_time": "2024-07-31T19:58:42.401821Z",
     "start_time": "2024-07-31T19:58:42.389475Z"
    }
   },
   "source": [
    "x"
   ],
   "outputs": [
    {
     "data": {
      "text/plain": [
       "25"
      ]
     },
     "execution_count": 5,
     "metadata": {},
     "output_type": "execute_result"
    }
   ],
   "execution_count": 5
  },
  {
   "cell_type": "code",
   "id": "4f035cc6f48bddba",
   "metadata": {
    "ExecuteTime": {
     "end_time": "2024-07-31T19:58:42.437498Z",
     "start_time": "2024-07-31T19:58:42.427674Z"
    }
   },
   "source": "type(x)",
   "outputs": [
    {
     "data": {
      "text/plain": [
       "int"
      ]
     },
     "execution_count": 6,
     "metadata": {},
     "output_type": "execute_result"
    }
   ],
   "execution_count": 6
  },
  {
   "metadata": {
    "ExecuteTime": {
     "end_time": "2024-07-31T19:58:42.522417Z",
     "start_time": "2024-07-31T19:58:42.518576Z"
    }
   },
   "cell_type": "code",
   "source": "",
   "id": "c11175abf8e8f272",
   "outputs": [],
   "execution_count": 6
  },
  {
   "cell_type": "code",
   "id": "a193e86400ed41f7",
   "metadata": {
    "ExecuteTime": {
     "end_time": "2024-07-31T19:58:42.587383Z",
     "start_time": "2024-07-31T19:58:42.582401Z"
    }
   },
   "source": [
    "y=3"
   ],
   "outputs": [],
   "execution_count": 7
  },
  {
   "cell_type": "code",
   "id": "b15af6376cada100",
   "metadata": {
    "ExecuteTime": {
     "end_time": "2024-07-31T19:58:42.688965Z",
     "start_time": "2024-07-31T19:58:42.683006Z"
    }
   },
   "source": [
    "py_sum = x+y"
   ],
   "outputs": [],
   "execution_count": 8
  },
  {
   "cell_type": "code",
   "id": "e8a9ad54bb393b01",
   "metadata": {
    "ExecuteTime": {
     "end_time": "2024-07-31T19:58:42.737268Z",
     "start_time": "2024-07-31T19:58:42.730030Z"
    }
   },
   "source": [
    "py_sum"
   ],
   "outputs": [
    {
     "data": {
      "text/plain": [
       "28"
      ]
     },
     "execution_count": 9,
     "metadata": {},
     "output_type": "execute_result"
    }
   ],
   "execution_count": 9
  },
  {
   "cell_type": "code",
   "id": "73002b9755d3a5d6",
   "metadata": {
    "ExecuteTime": {
     "end_time": "2024-07-31T19:58:42.821504Z",
     "start_time": "2024-07-31T19:58:42.812514Z"
    }
   },
   "source": [
    "type(py_sum)"
   ],
   "outputs": [
    {
     "data": {
      "text/plain": [
       "int"
      ]
     },
     "execution_count": 10,
     "metadata": {},
     "output_type": "execute_result"
    }
   ],
   "execution_count": 10
  },
  {
   "cell_type": "code",
   "id": "64d427efbe238f3f",
   "metadata": {
    "ExecuteTime": {
     "end_time": "2024-07-31T19:58:42.836013Z",
     "start_time": "2024-07-31T19:58:42.830375Z"
    }
   },
   "source": [
    "x_float = 25.0"
   ],
   "outputs": [],
   "execution_count": 11
  },
  {
   "cell_type": "code",
   "id": "27a187c028910882",
   "metadata": {
    "ExecuteTime": {
     "end_time": "2024-07-31T19:58:42.888868Z",
     "start_time": "2024-07-31T19:58:42.884156Z"
    }
   },
   "source": [
    "float_sum = x_float + y"
   ],
   "outputs": [],
   "execution_count": 12
  },
  {
   "cell_type": "code",
   "id": "a5e78df89e738657",
   "metadata": {
    "ExecuteTime": {
     "end_time": "2024-07-31T19:58:42.967264Z",
     "start_time": "2024-07-31T19:58:42.958977Z"
    }
   },
   "source": [
    "float_sum"
   ],
   "outputs": [
    {
     "data": {
      "text/plain": [
       "28.0"
      ]
     },
     "execution_count": 13,
     "metadata": {},
     "output_type": "execute_result"
    }
   ],
   "execution_count": 13
  },
  {
   "cell_type": "code",
   "id": "ae8b89bb08804b1c",
   "metadata": {
    "ExecuteTime": {
     "end_time": "2024-07-31T19:58:43.043732Z",
     "start_time": "2024-07-31T19:58:43.036061Z"
    }
   },
   "source": [
    "type(float_sum)"
   ],
   "outputs": [
    {
     "data": {
      "text/plain": [
       "float"
      ]
     },
     "execution_count": 14,
     "metadata": {},
     "output_type": "execute_result"
    }
   ],
   "execution_count": 14
  },
  {
   "cell_type": "markdown",
   "id": "539542e512f03cf4",
   "metadata": {},
   "source": [
    "pytorch lib is designed to be pythonic, like numpy.  pytorch tensors advantage relative to numpy is that it can be easily processed by gpus"
   ]
  },
  {
   "cell_type": "code",
   "id": "6d5425e9375363c0",
   "metadata": {
    "ExecuteTime": {
     "end_time": "2024-07-31T19:58:47.298780Z",
     "start_time": "2024-07-31T19:58:43.060167Z"
    }
   },
   "source": [
    "import torch"
   ],
   "outputs": [],
   "execution_count": 15
  },
  {
   "cell_type": "code",
   "id": "6ffac6728187f0b9",
   "metadata": {
    "ExecuteTime": {
     "end_time": "2024-07-31T19:58:47.310160Z",
     "start_time": "2024-07-31T19:58:47.302167Z"
    }
   },
   "source": [
    "print(torch.__version__)"
   ],
   "outputs": [
    {
     "name": "stdout",
     "output_type": "stream",
     "text": [
      "2.3.1+cpu\n"
     ]
    }
   ],
   "execution_count": 16
  },
  {
   "cell_type": "code",
   "id": "cca312edeb705a0e",
   "metadata": {
    "ExecuteTime": {
     "end_time": "2024-07-31T19:58:47.324831Z",
     "start_time": "2024-07-31T19:58:47.313651Z"
    }
   },
   "source": [
    "x_pt=torch.tensor(25, dtype=torch.float16) #type specification optional, e.g.: dtype=torch.float16"
   ],
   "outputs": [],
   "execution_count": 17
  },
  {
   "cell_type": "code",
   "id": "af05a8d7fe725183",
   "metadata": {
    "ExecuteTime": {
     "end_time": "2024-07-31T19:58:47.343319Z",
     "start_time": "2024-07-31T19:58:47.329242Z"
    }
   },
   "source": [
    "x_pt"
   ],
   "outputs": [
    {
     "data": {
      "text/plain": [
       "tensor(25., dtype=torch.float16)"
      ]
     },
     "execution_count": 18,
     "metadata": {},
     "output_type": "execute_result"
    }
   ],
   "execution_count": 18
  },
  {
   "cell_type": "code",
   "id": "9f333bd273d6f6b8",
   "metadata": {
    "ExecuteTime": {
     "end_time": "2024-07-31T19:58:47.355117Z",
     "start_time": "2024-07-31T19:58:47.346207Z"
    }
   },
   "source": [
    "x_pt.shape # has NO dimensions"
   ],
   "outputs": [
    {
     "data": {
      "text/plain": [
       "torch.Size([])"
      ]
     },
     "execution_count": 19,
     "metadata": {},
     "output_type": "execute_result"
    }
   ],
   "execution_count": 19
  },
  {
   "cell_type": "code",
   "id": "b0f695c145643fd8",
   "metadata": {
    "ExecuteTime": {
     "end_time": "2024-07-31T19:58:52.201319Z",
     "start_time": "2024-07-31T19:58:47.358102Z"
    }
   },
   "source": [
    "import tensorflow as tf"
   ],
   "outputs": [],
   "execution_count": 20
  },
  {
   "cell_type": "code",
   "id": "fd7d454a98bf896a",
   "metadata": {
    "ExecuteTime": {
     "end_time": "2024-07-31T19:58:52.244235Z",
     "start_time": "2024-07-31T19:58:52.202936Z"
    }
   },
   "source": [
    "x_tf = tf.Variable(25, dtype=tf.int16) #dtype is optional"
   ],
   "outputs": [],
   "execution_count": 21
  },
  {
   "cell_type": "code",
   "id": "f9c27bc2e4bf363d",
   "metadata": {
    "ExecuteTime": {
     "end_time": "2024-07-31T19:58:52.258290Z",
     "start_time": "2024-07-31T19:58:52.246384Z"
    }
   },
   "source": [
    "x_tf"
   ],
   "outputs": [
    {
     "data": {
      "text/plain": [
       "<tf.Variable 'Variable:0' shape=() dtype=int16, numpy=25>"
      ]
     },
     "execution_count": 22,
     "metadata": {},
     "output_type": "execute_result"
    }
   ],
   "execution_count": 22
  },
  {
   "cell_type": "code",
   "id": "5ba0a4700b6a2116",
   "metadata": {
    "ExecuteTime": {
     "end_time": "2024-07-31T19:58:52.268697Z",
     "start_time": "2024-07-31T19:58:52.260427Z"
    }
   },
   "source": [
    "x_tf.shape"
   ],
   "outputs": [
    {
     "data": {
      "text/plain": [
       "TensorShape([])"
      ]
     },
     "execution_count": 23,
     "metadata": {},
     "output_type": "execute_result"
    }
   ],
   "execution_count": 23
  },
  {
   "cell_type": "code",
   "id": "620a77a0ce0a6512",
   "metadata": {
    "ExecuteTime": {
     "end_time": "2024-07-31T19:58:52.283345Z",
     "start_time": "2024-07-31T19:58:52.274892Z"
    }
   },
   "source": [
    "y_tf = tf.Variable(3, dtype=tf.int16)"
   ],
   "outputs": [],
   "execution_count": 24
  },
  {
   "cell_type": "code",
   "id": "10eec44f02b17c1e",
   "metadata": {
    "ExecuteTime": {
     "end_time": "2024-07-31T19:58:52.301111Z",
     "start_time": "2024-07-31T19:58:52.286038Z"
    }
   },
   "source": [
    "x_tf+y_tf"
   ],
   "outputs": [
    {
     "data": {
      "text/plain": [
       "<tf.Tensor: shape=(), dtype=int16, numpy=28>"
      ]
     },
     "execution_count": 25,
     "metadata": {},
     "output_type": "execute_result"
    }
   ],
   "execution_count": 25
  },
  {
   "cell_type": "code",
   "id": "4482d750b411db4d",
   "metadata": {
    "ExecuteTime": {
     "end_time": "2024-07-31T19:58:52.315284Z",
     "start_time": "2024-07-31T19:58:52.304349Z"
    }
   },
   "source": [
    "tf_sum = tf.add(x_tf, y_tf)\n",
    "tf_sum"
   ],
   "outputs": [
    {
     "data": {
      "text/plain": [
       "<tf.Tensor: shape=(), dtype=int16, numpy=28>"
      ]
     },
     "execution_count": 26,
     "metadata": {},
     "output_type": "execute_result"
    }
   ],
   "execution_count": 26
  },
  {
   "cell_type": "code",
   "id": "8c8bbfab2477b28f",
   "metadata": {
    "ExecuteTime": {
     "end_time": "2024-07-31T19:58:52.327527Z",
     "start_time": "2024-07-31T19:58:52.318021Z"
    }
   },
   "source": [
    "tf_sum.numpy() #numpy operations automatically convert tensors to numpy arrays and vice versa"
   ],
   "outputs": [
    {
     "data": {
      "text/plain": [
       "28"
      ]
     },
     "execution_count": 27,
     "metadata": {},
     "output_type": "execute_result"
    }
   ],
   "execution_count": 27
  },
  {
   "cell_type": "markdown",
   "id": "a015ef57f3ffe8b6",
   "metadata": {},
   "source": [
    "*author likes pytorch over tensorflow*"
   ]
  },
  {
   "cell_type": "markdown",
   "id": "e5fca25649ab0dee",
   "metadata": {},
   "source": [
    "Vectors (Rank 1 Tensors) in NumPy"
   ]
  },
  {
   "cell_type": "code",
   "id": "1b4f469ff68fec90",
   "metadata": {
    "ExecuteTime": {
     "end_time": "2024-07-31T19:58:52.339427Z",
     "start_time": "2024-07-31T19:58:52.330501Z"
    }
   },
   "source": [
    "import numpy as np"
   ],
   "outputs": [],
   "execution_count": 28
  },
  {
   "cell_type": "code",
   "id": "7973ca292c99c407",
   "metadata": {
    "ExecuteTime": {
     "end_time": "2024-07-31T19:58:52.357591Z",
     "start_time": "2024-07-31T19:58:52.342085Z"
    }
   },
   "source": [
    "x=np.array([25,2,5], dtype=np.float16) # typeis optional, e.g.: dtype=np.float16\n",
    "x"
   ],
   "outputs": [
    {
     "data": {
      "text/plain": [
       "array([25.,  2.,  5.], dtype=float16)"
      ]
     },
     "execution_count": 29,
     "metadata": {},
     "output_type": "execute_result"
    }
   ],
   "execution_count": 29
  },
  {
   "cell_type": "code",
   "id": "e7b838ff858b2842",
   "metadata": {
    "ExecuteTime": {
     "end_time": "2024-07-31T19:58:52.369930Z",
     "start_time": "2024-07-31T19:58:52.361153Z"
    }
   },
   "source": [
    "len(x)"
   ],
   "outputs": [
    {
     "data": {
      "text/plain": [
       "3"
      ]
     },
     "execution_count": 30,
     "metadata": {},
     "output_type": "execute_result"
    }
   ],
   "execution_count": 30
  },
  {
   "cell_type": "code",
   "id": "914815a29481cf3b",
   "metadata": {
    "ExecuteTime": {
     "end_time": "2024-07-31T19:58:52.383267Z",
     "start_time": "2024-07-31T19:58:52.372491Z"
    }
   },
   "source": [
    "x.shape"
   ],
   "outputs": [
    {
     "data": {
      "text/plain": [
       "(3,)"
      ]
     },
     "execution_count": 31,
     "metadata": {},
     "output_type": "execute_result"
    }
   ],
   "execution_count": 31
  },
  {
   "cell_type": "code",
   "id": "8e8293f728db5548",
   "metadata": {
    "ExecuteTime": {
     "end_time": "2024-07-31T19:58:52.396631Z",
     "start_time": "2024-07-31T19:58:52.386325Z"
    }
   },
   "source": [
    "type(x)"
   ],
   "outputs": [
    {
     "data": {
      "text/plain": [
       "numpy.ndarray"
      ]
     },
     "execution_count": 32,
     "metadata": {},
     "output_type": "execute_result"
    }
   ],
   "execution_count": 32
  },
  {
   "cell_type": "code",
   "id": "815fd31e96f2bae9",
   "metadata": {
    "ExecuteTime": {
     "end_time": "2024-07-31T19:58:52.408437Z",
     "start_time": "2024-07-31T19:58:52.399247Z"
    }
   },
   "source": [
    "x[0] # zero-indexed"
   ],
   "outputs": [
    {
     "data": {
      "text/plain": [
       "25.0"
      ]
     },
     "execution_count": 33,
     "metadata": {},
     "output_type": "execute_result"
    }
   ],
   "execution_count": 33
  },
  {
   "cell_type": "code",
   "id": "e200c23c38b27593",
   "metadata": {
    "ExecuteTime": {
     "end_time": "2024-07-31T19:58:52.422005Z",
     "start_time": "2024-07-31T19:58:52.411639Z"
    }
   },
   "source": [
    "type(x[0])"
   ],
   "outputs": [
    {
     "data": {
      "text/plain": [
       "numpy.float16"
      ]
     },
     "execution_count": 34,
     "metadata": {},
     "output_type": "execute_result"
    }
   ],
   "execution_count": 34
  }
 ],
 "metadata": {
  "kernelspec": {
   "display_name": "Python 3.11 (intro_to_linear_algebra)",
   "language": "python",
   "name": "myenv"
  },
  "language_info": {
   "codemirror_mode": {
    "name": "ipython",
    "version": 3
   },
   "file_extension": ".py",
   "mimetype": "text/x-python",
   "name": "python",
   "nbconvert_exporter": "python",
   "pygments_lexer": "ipython3",
   "version": "3.11.7"
  }
 },
 "nbformat": 4,
 "nbformat_minor": 5
}
