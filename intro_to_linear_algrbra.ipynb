{
 "cells": [
  {
   "metadata": {},
   "cell_type": "markdown",
   "source": "Scalars (Rank 0 Tensors) in base python",
   "id": "a70bc406f078583a"
  },
  {
   "metadata": {
    "ExecuteTime": {
     "end_time": "2024-06-10T17:08:42.152323Z",
     "start_time": "2024-06-10T17:08:42.147778Z"
    }
   },
   "cell_type": "code",
   "source": "x=25",
   "id": "e2217f07c57242f5",
   "outputs": [],
   "execution_count": 15
  },
  {
   "metadata": {
    "ExecuteTime": {
     "end_time": "2024-06-10T17:08:55.501943Z",
     "start_time": "2024-06-10T17:08:55.495502Z"
    }
   },
   "cell_type": "code",
   "source": "x",
   "id": "d106137097ec0798",
   "outputs": [
    {
     "data": {
      "text/plain": [
       "25"
      ]
     },
     "execution_count": 16,
     "metadata": {},
     "output_type": "execute_result"
    }
   ],
   "execution_count": 16
  },
  {
   "metadata": {
    "ExecuteTime": {
     "end_time": "2024-06-10T17:09:13.445759Z",
     "start_time": "2024-06-10T17:09:13.439934Z"
    }
   },
   "cell_type": "code",
   "source": "type(x) #if we want more specificity (e.g., int16, uint8), we need numpy or another numeric library",
   "id": "4f035cc6f48bddba",
   "outputs": [
    {
     "data": {
      "text/plain": [
       "int"
      ]
     },
     "execution_count": 17,
     "metadata": {},
     "output_type": "execute_result"
    }
   ],
   "execution_count": 17
  },
  {
   "metadata": {
    "ExecuteTime": {
     "end_time": "2024-06-10T17:10:30.855645Z",
     "start_time": "2024-06-10T17:10:30.851977Z"
    }
   },
   "cell_type": "code",
   "source": "y=3",
   "id": "a193e86400ed41f7",
   "outputs": [],
   "execution_count": 18
  },
  {
   "metadata": {
    "ExecuteTime": {
     "end_time": "2024-06-10T17:10:56.318141Z",
     "start_time": "2024-06-10T17:10:56.313771Z"
    }
   },
   "cell_type": "code",
   "source": "py_sum = x+y",
   "id": "b15af6376cada100",
   "outputs": [],
   "execution_count": 19
  },
  {
   "metadata": {
    "ExecuteTime": {
     "end_time": "2024-06-10T17:11:05.813869Z",
     "start_time": "2024-06-10T17:11:05.807716Z"
    }
   },
   "cell_type": "code",
   "source": "py_sum",
   "id": "e8a9ad54bb393b01",
   "outputs": [
    {
     "data": {
      "text/plain": [
       "28"
      ]
     },
     "execution_count": 20,
     "metadata": {},
     "output_type": "execute_result"
    }
   ],
   "execution_count": 20
  },
  {
   "metadata": {
    "ExecuteTime": {
     "end_time": "2024-06-10T17:11:24.112207Z",
     "start_time": "2024-06-10T17:11:24.106470Z"
    }
   },
   "cell_type": "code",
   "source": "type(py_sum)",
   "id": "73002b9755d3a5d6",
   "outputs": [
    {
     "data": {
      "text/plain": [
       "int"
      ]
     },
     "execution_count": 21,
     "metadata": {},
     "output_type": "execute_result"
    }
   ],
   "execution_count": 21
  },
  {
   "metadata": {
    "ExecuteTime": {
     "end_time": "2024-06-10T17:13:07.659755Z",
     "start_time": "2024-06-10T17:13:07.655054Z"
    }
   },
   "cell_type": "code",
   "source": "x_float = 25.0",
   "id": "64d427efbe238f3f",
   "outputs": [],
   "execution_count": 23
  },
  {
   "metadata": {
    "ExecuteTime": {
     "end_time": "2024-06-10T17:13:17.656838Z",
     "start_time": "2024-06-10T17:13:17.652462Z"
    }
   },
   "cell_type": "code",
   "source": "float_sum = x_float + y",
   "id": "27a187c028910882",
   "outputs": [],
   "execution_count": 25
  },
  {
   "metadata": {
    "ExecuteTime": {
     "end_time": "2024-06-10T17:13:28.529667Z",
     "start_time": "2024-06-10T17:13:28.524682Z"
    }
   },
   "cell_type": "code",
   "source": "float_sum",
   "id": "a5e78df89e738657",
   "outputs": [
    {
     "data": {
      "text/plain": [
       "28.0"
      ]
     },
     "execution_count": 26,
     "metadata": {},
     "output_type": "execute_result"
    }
   ],
   "execution_count": 26
  },
  {
   "metadata": {
    "ExecuteTime": {
     "end_time": "2024-06-10T17:13:54.756550Z",
     "start_time": "2024-06-10T17:13:54.751112Z"
    }
   },
   "cell_type": "code",
   "source": "type(float_sum)",
   "id": "ae8b89bb08804b1c",
   "outputs": [
    {
     "data": {
      "text/plain": [
       "float"
      ]
     },
     "execution_count": 27,
     "metadata": {},
     "output_type": "execute_result"
    }
   ],
   "execution_count": 27
  },
  {
   "metadata": {},
   "cell_type": "markdown",
   "source": "pytorch lib is designed to be pythonic, like numpy.  pytorch tensors advantage relative to numpy is that it can be easily processed by gpus",
   "id": "539542e512f03cf4"
  },
  {
   "metadata": {
    "ExecuteTime": {
     "end_time": "2024-06-10T17:41:13.553738Z",
     "start_time": "2024-06-10T17:41:13.531880Z"
    }
   },
   "cell_type": "code",
   "source": "import torch",
   "id": "6d5425e9375363c0",
   "outputs": [],
   "execution_count": 3
  },
  {
   "metadata": {
    "ExecuteTime": {
     "end_time": "2024-06-10T17:41:13.528639Z",
     "start_time": "2024-06-10T17:41:13.518728Z"
    }
   },
   "cell_type": "code",
   "source": "print(torch.__version__)",
   "id": "6ffac6728187f0b9",
   "outputs": [
    {
     "name": "stdout",
     "output_type": "stream",
     "text": [
      "2.3.1+cpu\n"
     ]
    }
   ],
   "execution_count": 2
  },
  {
   "metadata": {
    "ExecuteTime": {
     "end_time": "2024-06-10T17:43:10.952507Z",
     "start_time": "2024-06-10T17:43:10.947511Z"
    }
   },
   "cell_type": "code",
   "source": "x_pt=torch.tensor(25, dtype=torch.float16) #type specification optional, e.g.: dtype=torch.float16",
   "id": "cca312edeb705a0e",
   "outputs": [],
   "execution_count": 4
  },
  {
   "metadata": {
    "ExecuteTime": {
     "end_time": "2024-06-10T17:43:27.721967Z",
     "start_time": "2024-06-10T17:43:27.714376Z"
    }
   },
   "cell_type": "code",
   "source": "x_pt",
   "id": "af05a8d7fe725183",
   "outputs": [
    {
     "data": {
      "text/plain": [
       "tensor(25., dtype=torch.float16)"
      ]
     },
     "execution_count": 5,
     "metadata": {},
     "output_type": "execute_result"
    }
   ],
   "execution_count": 5
  },
  {
   "metadata": {
    "ExecuteTime": {
     "end_time": "2024-06-10T17:43:51.747598Z",
     "start_time": "2024-06-10T17:43:51.742880Z"
    }
   },
   "cell_type": "code",
   "source": "x_pt.shape # has NO dimensions",
   "id": "9f333bd273d6f6b8",
   "outputs": [
    {
     "data": {
      "text/plain": [
       "torch.Size([])"
      ]
     },
     "execution_count": 6,
     "metadata": {},
     "output_type": "execute_result"
    }
   ],
   "execution_count": 6
  },
  {
   "metadata": {
    "ExecuteTime": {
     "end_time": "2024-06-10T17:48:04.716607Z",
     "start_time": "2024-06-10T17:47:31.534503Z"
    }
   },
   "cell_type": "code",
   "source": "import tensorflow as tf",
   "id": "b0f695c145643fd8",
   "outputs": [],
   "execution_count": 7
  },
  {
   "metadata": {
    "ExecuteTime": {
     "end_time": "2024-06-10T17:48:42.397508Z",
     "start_time": "2024-06-10T17:48:42.391620Z"
    }
   },
   "cell_type": "code",
   "source": "x_tf = tf.Variable(25, dtype=tf.int16) #dtype is optional",
   "id": "fd7d454a98bf896a",
   "outputs": [],
   "execution_count": 9
  },
  {
   "metadata": {
    "ExecuteTime": {
     "end_time": "2024-06-10T17:48:49.651208Z",
     "start_time": "2024-06-10T17:48:49.644308Z"
    }
   },
   "cell_type": "code",
   "source": "x_tf",
   "id": "f9c27bc2e4bf363d",
   "outputs": [
    {
     "data": {
      "text/plain": [
       "<tf.Variable 'Variable:0' shape=() dtype=int16, numpy=25>"
      ]
     },
     "execution_count": 10,
     "metadata": {},
     "output_type": "execute_result"
    }
   ],
   "execution_count": 10
  },
  {
   "metadata": {
    "ExecuteTime": {
     "end_time": "2024-06-10T17:49:13.290582Z",
     "start_time": "2024-06-10T17:49:13.283485Z"
    }
   },
   "cell_type": "code",
   "source": "x_tf.shape",
   "id": "5ba0a4700b6a2116",
   "outputs": [
    {
     "data": {
      "text/plain": [
       "TensorShape([])"
      ]
     },
     "execution_count": 11,
     "metadata": {},
     "output_type": "execute_result"
    }
   ],
   "execution_count": 11
  },
  {
   "metadata": {
    "ExecuteTime": {
     "end_time": "2024-06-10T17:49:55.388160Z",
     "start_time": "2024-06-10T17:49:55.380317Z"
    }
   },
   "cell_type": "code",
   "source": "y_tf = tf.Variable(3, dtype=tf.int16)",
   "id": "620a77a0ce0a6512",
   "outputs": [],
   "execution_count": 12
  },
  {
   "metadata": {
    "ExecuteTime": {
     "end_time": "2024-06-10T17:50:17.849551Z",
     "start_time": "2024-06-10T17:50:17.840440Z"
    }
   },
   "cell_type": "code",
   "source": "x_tf+y_tf",
   "id": "10eec44f02b17c1e",
   "outputs": [
    {
     "data": {
      "text/plain": [
       "<tf.Tensor: shape=(), dtype=int16, numpy=28>"
      ]
     },
     "execution_count": 13,
     "metadata": {},
     "output_type": "execute_result"
    }
   ],
   "execution_count": 13
  },
  {
   "metadata": {
    "ExecuteTime": {
     "end_time": "2024-06-10T17:50:57.541818Z",
     "start_time": "2024-06-10T17:50:57.533081Z"
    }
   },
   "cell_type": "code",
   "source": [
    "tf_sum = tf.add(x_tf, y_tf)\n",
    "tf_sum"
   ],
   "id": "4482d750b411db4d",
   "outputs": [
    {
     "data": {
      "text/plain": [
       "<tf.Tensor: shape=(), dtype=int16, numpy=28>"
      ]
     },
     "execution_count": 14,
     "metadata": {},
     "output_type": "execute_result"
    }
   ],
   "execution_count": 14
  },
  {
   "metadata": {
    "ExecuteTime": {
     "end_time": "2024-06-10T17:54:28.044448Z",
     "start_time": "2024-06-10T17:54:28.037881Z"
    }
   },
   "cell_type": "code",
   "source": "tf_sum.numpy() #numpy operations automatically convert tensors to numpy arrays and vice versa",
   "id": "8c8bbfab2477b28f",
   "outputs": [
    {
     "data": {
      "text/plain": [
       "28"
      ]
     },
     "execution_count": 20,
     "metadata": {},
     "output_type": "execute_result"
    }
   ],
   "execution_count": 20
  },
  {
   "metadata": {},
   "cell_type": "markdown",
   "source": "*author likes pytorch over tensorflow*",
   "id": "a015ef57f3ffe8b6"
  },
  {
   "metadata": {},
   "cell_type": "markdown",
   "source": "Vectors (Rank 1 Tensors) in NumPy",
   "id": "e5fca25649ab0dee"
  },
  {
   "metadata": {
    "ExecuteTime": {
     "end_time": "2024-06-10T17:51:41.532241Z",
     "start_time": "2024-06-10T17:51:41.527723Z"
    }
   },
   "cell_type": "code",
   "source": "import numpy as np",
   "id": "1b4f469ff68fec90",
   "outputs": [],
   "execution_count": 17
  },
  {
   "metadata": {
    "ExecuteTime": {
     "end_time": "2024-06-10T17:51:55.705600Z",
     "start_time": "2024-06-10T17:51:55.698661Z"
    }
   },
   "cell_type": "code",
   "source": [
    "x=np.array([25,2,5], dtype=np.float16) # typeis optional, e.g.: dtype=np.float16\n",
    "x"
   ],
   "id": "7973ca292c99c407",
   "outputs": [
    {
     "data": {
      "text/plain": [
       "array([25.,  2.,  5.], dtype=float16)"
      ]
     },
     "execution_count": 19,
     "metadata": {},
     "output_type": "execute_result"
    }
   ],
   "execution_count": 19
  },
  {
   "metadata": {
    "ExecuteTime": {
     "end_time": "2024-06-10T17:30:31.892203Z",
     "start_time": "2024-06-10T17:30:31.883699Z"
    }
   },
   "cell_type": "code",
   "source": "len(x)",
   "id": "e7b838ff858b2842",
   "outputs": [
    {
     "data": {
      "text/plain": [
       "3"
      ]
     },
     "execution_count": 9,
     "metadata": {},
     "output_type": "execute_result"
    }
   ],
   "execution_count": 9
  },
  {
   "metadata": {
    "ExecuteTime": {
     "end_time": "2024-06-10T16:36:09.504327Z",
     "start_time": "2024-06-10T16:36:09.497066Z"
    }
   },
   "cell_type": "code",
   "source": "x.shape",
   "id": "914815a29481cf3b",
   "outputs": [
    {
     "data": {
      "text/plain": [
       "(3,)"
      ]
     },
     "execution_count": 11,
     "metadata": {},
     "output_type": "execute_result"
    }
   ],
   "execution_count": 11
  },
  {
   "metadata": {
    "ExecuteTime": {
     "end_time": "2024-06-10T16:36:11.286733Z",
     "start_time": "2024-06-10T16:36:11.278692Z"
    }
   },
   "cell_type": "code",
   "source": "type(x)",
   "id": "8e8293f728db5548",
   "outputs": [
    {
     "data": {
      "text/plain": [
       "numpy.ndarray"
      ]
     },
     "execution_count": 12,
     "metadata": {},
     "output_type": "execute_result"
    }
   ],
   "execution_count": 12
  },
  {
   "metadata": {
    "ExecuteTime": {
     "end_time": "2024-06-10T16:36:43.431067Z",
     "start_time": "2024-06-10T16:36:43.421985Z"
    }
   },
   "cell_type": "code",
   "source": "x[0] # zero-indexed",
   "id": "815fd31e96f2bae9",
   "outputs": [
    {
     "data": {
      "text/plain": [
       "25.0"
      ]
     },
     "execution_count": 13,
     "metadata": {},
     "output_type": "execute_result"
    }
   ],
   "execution_count": 13
  },
  {
   "metadata": {
    "ExecuteTime": {
     "end_time": "2024-06-10T16:37:06.327319Z",
     "start_time": "2024-06-10T16:37:06.317404Z"
    }
   },
   "cell_type": "code",
   "source": "type(x[0])",
   "id": "e200c23c38b27593",
   "outputs": [
    {
     "data": {
      "text/plain": [
       "numpy.float16"
      ]
     },
     "execution_count": 14,
     "metadata": {},
     "output_type": "execute_result"
    }
   ],
   "execution_count": 14
  },
  {
   "metadata": {},
   "cell_type": "code",
   "outputs": [],
   "execution_count": null,
   "source": "",
   "id": "7f8d0cf23d13b128"
  }
 ],
 "metadata": {
  "kernelspec": {
   "display_name": "Python 3",
   "language": "python",
   "name": "python3"
  },
  "language_info": {
   "codemirror_mode": {
    "name": "ipython",
    "version": 2
   },
   "file_extension": ".py",
   "mimetype": "text/x-python",
   "name": "python",
   "nbconvert_exporter": "python",
   "pygments_lexer": "ipython2",
   "version": "2.7.6"
  }
 },
 "nbformat": 4,
 "nbformat_minor": 5
}
